{
 "cells": [
  {
   "cell_type": "markdown",
   "id": "0f0d45ef",
   "metadata": {},
   "source": [
    "# The Very Basics of OpenCV"
   ]
  },
  {
   "cell_type": "markdown",
   "id": "dcabdc13",
   "metadata": {},
   "source": [
    "## Loading and Opening an Image\n",
    "\n",
    "The first step in image processing is loading the image you want to work with! \n",
    "\n",
    "First, we begin by importing cv2."
   ]
  },
  {
   "cell_type": "code",
   "execution_count": 1,
   "id": "ab379170",
   "metadata": {},
   "outputs": [],
   "source": [
    "import cv2"
   ]
  },
  {
   "cell_type": "markdown",
   "id": "863c3b10",
   "metadata": {},
   "source": [
    "`cv2` is the import name for **OpenCV**, an open source computer vision library (with great documentation! https://docs.opencv.org/4.x/d6/d00/tutorial_py_root.html) It is considered the standard library for the whole field of image processing.\n",
    "\n",
    "On your personal computer, you may need to use pip to install this. (Ex: `pip install opencv-python`)\n",
    "\n",
    "Next, we load the image using `cv2.imread`."
   ]
  },
  {
   "cell_type": "code",
   "execution_count": 2,
   "id": "d12f9cf8",
   "metadata": {},
   "outputs": [],
   "source": [
    "img_color = cv2.imread(\"ladybug.png\", cv2.IMREAD_COLOR)\n",
    "img_gray = cv2.imread(\"ladybug.png\", cv2.IMREAD_GRAYSCALE)"
   ]
  },
  {
   "cell_type": "markdown",
   "id": "bc8523e0",
   "metadata": {},
   "source": [
    "Running this code shouldn't output anything yet.\n",
    "\n",
    "`cv2.imread` takes in 2 parameters: the image, and how you want it loaded in. For now, for the first parameter is simply the name of the image in quotation marks. This is because, for the sake of the workshop, we have the image in the same folder as this document. If you would like to load an image from a different folder, you are able to copy the entire filepath. An example is shown commented below:"
   ]
  },
  {
   "cell_type": "code",
   "execution_count": 13,
   "id": "9a96c02b",
   "metadata": {},
   "outputs": [],
   "source": [
    "# path = \"C:\\\\Users\\\\name\\\\Documents\\\\Development\\\\HackBU\\\\Workshops\\\\ComputerVisionWorkshop\"\n",
    "# cv2.imread(path, cv2.IMREAD_COLOR)"
   ]
  },
  {
   "cell_type": "markdown",
   "id": "680c7758",
   "metadata": {},
   "source": [
    "As a note: this can be somewhat buggy. Common things that might cause problems:\n",
    "\n",
    "1. Using a single backslash instead of a double backslash. If you copy a filepath from the file explorer, it automatically copies with only single backslashes. You may have to manually add in a second backslash each time.\n",
    "2. Spaces in folder names. For some reason, this method will often struggle to recognize folders with a space character. For example, folders should be named \"Ladybug_pictures\" instead of \"Ladybug pictures\"\n",
    "\n",
    "If you find yourself getting an error message that an image wasn't found, one of the above might be the issue.\n",
    "\n",
    "\n",
    "For the second parameter, how to load the image, we have two options, both shown in the above example. These options are fairly self-explanatory: `cv2.IMREAD_COLOR` loads the image in color, `cv2.IMREAD_GRAYSCALE` loads the image in shades of gray.\n",
    "\n",
    "Next, we want to see our images and make sure they are loaded correctly! We can use `cv2.imshow` to do this."
   ]
  },
  {
   "cell_type": "code",
   "execution_count": 3,
   "id": "ce06e930",
   "metadata": {},
   "outputs": [
    {
     "data": {
      "text/plain": [
       "-1"
      ]
     },
     "execution_count": 3,
     "metadata": {},
     "output_type": "execute_result"
    }
   ],
   "source": [
    "cv2.imshow(\"Color ladybug!\", img_color)\n",
    "cv2.waitKey(0)\n",
    "\n",
    "cv2.imshow(\"Gray ladybug!\", img_gray)\n",
    "cv2.waitKey(0)"
   ]
  },
  {
   "cell_type": "markdown",
   "id": "14ad0197",
   "metadata": {},
   "source": [
    "When you ran this code, a color image should have popped up. When you exited out of that one, a gray image should have popped up.\n",
    "\n",
    "`cv2.imshow` takes two parameters, the window name (this can be whatever you want) and the image to be shown.\n",
    "`cv2.waitKey(0)` just means \"leave the window open until I close it.\" Without this, the window opens and then closes almost immediately, and we won't get to see it.\n",
    "\n",
    "When you run it, you may get an output of `-1`. Don't worry about this- this is something that happens with Jupyter Notebook. If you run this code in a regular text editor, nothing except the image windows popping up will occur.\n",
    "\n",
    "## Basic OpenCV Essentials\n",
    "\n",
    "### Accessing information about an image\n",
    "\n",
    "Throughout image processing, you will frequently have to access info about an image, like specific pixel values or the image dimensions. Fortunately, OpenCV makes these things very easy! \n",
    "\n",
    "You can access the dimensions of an image using `image_name.shape`."
   ]
  },
  {
   "cell_type": "code",
   "execution_count": 17,
   "id": "398ffee6",
   "metadata": {},
   "outputs": [
    {
     "name": "stdout",
     "output_type": "stream",
     "text": [
      "480\n",
      "760\n",
      "3\n"
     ]
    }
   ],
   "source": [
    "height, width, channels = img_color.shape\n",
    "print(height)\n",
    "print(width)\n",
    "print(channels)"
   ]
  },
  {
   "cell_type": "markdown",
   "id": "8cad0f09",
   "metadata": {},
   "source": [
    "The first two outputs of image.shape are the number of rows (or the image's height) and the number of columns (or the image's width.) These are both measured in pixels.\n",
    "\n",
    "The third output is the number of channels, **if the image is color**. This refers to the number of color values that are in the image. For a standard color image, 3 channels are present: red, green, and blue. These each have their own \"intensity\" values on a scale from 0 to 255. We will see more of this shortly.\n",
    "\n",
    "For a grayscale image, trying to get the channels will give you an error. You must only try to get 2 values from `image.shape`, as shown below."
   ]
  },
  {
   "cell_type": "code",
   "execution_count": 22,
   "id": "811f4a67",
   "metadata": {},
   "outputs": [
    {
     "name": "stdout",
     "output_type": "stream",
     "text": [
      "480\n",
      "760\n"
     ]
    }
   ],
   "source": [
    "height, width = img_gray.shape\n",
    "print(height)\n",
    "print(width)"
   ]
  },
  {
   "cell_type": "markdown",
   "id": "8514e65c",
   "metadata": {},
   "source": [
    "In a grayscale image, each pixel only has a single intensity value on the same scale (0-255). A value of 0 means black, and a value of 255 means white.\n",
    "\n",
    "`image_name.shape` always returns variables in the same order, regardless of what you call them. **Be careful!** If you  were to say `width, height, channels = img_color.shape`, this might cause problems down the road since the width and height variables are switched!"
   ]
  },
  {
   "cell_type": "markdown",
   "id": "f2050ba1",
   "metadata": {},
   "source": [
    "### Accessing Specific Pixels\n",
    "\n",
    "So now we know how to get general information about an image. What if we want to get information about specific pixels?  Let us return to our ladybug image. We know the pixels towards the edges of the image will be bright green. We can access them the way we index into a list in python. "
   ]
  },
  {
   "cell_type": "code",
   "execution_count": 51,
   "id": "0c08715a",
   "metadata": {
    "scrolled": true
   },
   "outputs": [
    {
     "name": "stdout",
     "output_type": "stream",
     "text": [
      "[ 65 190  97]\n"
     ]
    }
   ],
   "source": [
    "print(img_color[10,10])"
   ]
  },
  {
   "cell_type": "markdown",
   "id": "0145f607",
   "metadata": {},
   "source": [
    "As you can see, this outputs 3 values. In order, the blue value, the green value, and the red value. The green value is by far the highest of the two, hence why we see pixels around the edges as mostly green. What do you expect the pixels to look like for the center of the image?"
   ]
  },
  {
   "cell_type": "code",
   "execution_count": 52,
   "id": "9ee705e6",
   "metadata": {},
   "outputs": [
    {
     "name": "stdout",
     "output_type": "stream",
     "text": [
      "[255   0   0]\n"
     ]
    }
   ],
   "source": [
    "print(img_color[200,250])"
   ]
  },
  {
   "cell_type": "markdown",
   "id": "7b132a1a",
   "metadata": {},
   "source": [
    "As you can see, the red value is the only non-zero value here. 255 is the highest a value can be. \n",
    "\n",
    "For the grayscale image, we access pixels the exact same way, but we will only see one value."
   ]
  },
  {
   "cell_type": "code",
   "execution_count": 44,
   "id": "42970cc5",
   "metadata": {},
   "outputs": [
    {
     "name": "stdout",
     "output_type": "stream",
     "text": [
      "148\n",
      "76\n"
     ]
    }
   ],
   "source": [
    "print(img_gray[10,10])\n",
    "print(img_gray[200,250])"
   ]
  },
  {
   "cell_type": "markdown",
   "id": "c26459a4",
   "metadata": {},
   "source": [
    "What if we want to edit pixel values? This is done the exact same way we access them, only this time, we assign values.\n",
    "\n",
    "We're going to try changing some pixels to bright blue so that they stand out against our image."
   ]
  },
  {
   "cell_type": "code",
   "execution_count": 50,
   "id": "f2e5d9c7",
   "metadata": {},
   "outputs": [
    {
     "data": {
      "text/plain": [
       "-1"
      ]
     },
     "execution_count": 50,
     "metadata": {},
     "output_type": "execute_result"
    }
   ],
   "source": [
    "img_color[200,250] = [255,0,0]\n",
    "\n",
    "cv2.imshow(\"Color ladybug!\", img_color)\n",
    "cv2.waitKey(0)"
   ]
  },
  {
   "cell_type": "markdown",
   "id": "e00fef69",
   "metadata": {},
   "source": [
    "Hopefully you are able to see a blue dot on the ladybug! Since it is only a single pixel, it might be fairly small. So let's make it a rectangle."
   ]
  },
  {
   "cell_type": "code",
   "execution_count": 56,
   "id": "3310bfdd",
   "metadata": {},
   "outputs": [
    {
     "data": {
      "text/plain": [
       "-1"
      ]
     },
     "execution_count": 56,
     "metadata": {},
     "output_type": "execute_result"
    }
   ],
   "source": [
    "for x in range(190,210):\n",
    "    for y in range(240,260):\n",
    "        img_color[x,y] = [255,0,0]\n",
    "        \n",
    "cv2.imshow(\"Color ladybug!\", img_color)\n",
    "cv2.waitKey(0)"
   ]
  },
  {
   "cell_type": "markdown",
   "id": "06537640",
   "metadata": {},
   "source": [
    "You should be able to see a big blue rectangle towards the side of the ladybug!"
   ]
  }
 ],
 "metadata": {
  "kernelspec": {
   "display_name": "Python 3 (ipykernel)",
   "language": "python",
   "name": "python3"
  },
  "language_info": {
   "codemirror_mode": {
    "name": "ipython",
    "version": 3
   },
   "file_extension": ".py",
   "mimetype": "text/x-python",
   "name": "python",
   "nbconvert_exporter": "python",
   "pygments_lexer": "ipython3",
   "version": "3.9.7"
  }
 },
 "nbformat": 4,
 "nbformat_minor": 5
}
