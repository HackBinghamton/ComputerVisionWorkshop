{
 "cells": [
  {
   "cell_type": "markdown",
   "id": "1a506b67",
   "metadata": {},
   "source": [
    "# Basic Image Processing Techniques\n",
    "\n",
    "Before we get into actually recognizing parts of images, we need a few basic techniques we can perform on raw images. For now, these might seem somewhat random, but they are all very important parts of the larger process, as we will see later on in the workshop.\n",
    "\n",
    "## Blurring\n",
    "\n",
    "This is sometimes referred to as \"smoothing\" an image. This will end up being helpful when we try to get rid of extraneous \"noise\" in a picture.\n",
    "\n",
    "Lets return to our ladybug image from the last workshop section."
   ]
  },
  {
   "cell_type": "code",
   "execution_count": 7,
   "id": "64d0ca6f",
   "metadata": {},
   "outputs": [
    {
     "data": {
      "text/plain": [
       "-1"
      ]
     },
     "execution_count": 7,
     "metadata": {},
     "output_type": "execute_result"
    }
   ],
   "source": [
    "import cv2\n",
    "\n",
    "img_color = cv2.imread(\"ladybug.png\", cv2.IMREAD_COLOR)\n",
    "\n",
    "cv2.imshow(\"Color ladybug!\", img_color)\n",
    "cv2.waitKey(0)"
   ]
  },
  {
   "cell_type": "markdown",
   "id": "4855a3d8",
   "metadata": {},
   "source": [
    "### Standard Blur\n",
    "\n",
    "We have a couple of options for how we want to go about blurring our image. We'll start with OpenCV's standard \"blur\" feature, `cv2.blur`"
   ]
  },
  {
   "cell_type": "code",
   "execution_count": 8,
   "id": "8903ccd9",
   "metadata": {},
   "outputs": [
    {
     "data": {
      "text/plain": [
       "-1"
      ]
     },
     "execution_count": 8,
     "metadata": {},
     "output_type": "execute_result"
    }
   ],
   "source": [
    "blur_img_1 = cv2.blur(img_color,(3,3))\n",
    "\n",
    "cv2.imshow(\"Blurred ladybug\", blur_img_1)\n",
    "cv2.waitKey(0)"
   ]
  },
  {
   "cell_type": "markdown",
   "id": "52f280da",
   "metadata": {},
   "source": [
    "`cv2.blur` has two parameters: the image you want to blur, and the size for something that we call a **kernel**. If you don't care to learn how this works, feel free to just skip ahead. All you really *need* to know is that the larger numbers you put here, the more blurred your image will appear.\n",
    "\n",
    "When we put (3,3) in the second parameter spot, the program is using a 3x3 matrix to perform a blur. \n",
    "\n",
    "$ \\frac{1}{9} * \n",
    "\\begin{bmatrix} \n",
    "1 & 1 & 1 \\\\ \n",
    "1 & 1 & 1 \\\\ \n",
    "1 & 1 & 1 \\\\ \n",
    "\\end{bmatrix}$\n",
    "\n",
    "This matrix is applied to each individual pixel within the image. This means that for each pixel, the matrix is applied to the surrounding area, and then the pixel is replaced with the average value.\n",
    "\n",
    "So if we increase the kernel to (5,5), this is what the matrix will look like:\n",
    "\n",
    "$ \\frac{1}{25} *\n",
    "\\begin{bmatrix}\n",
    "1 & 1 & 1 & 1 & 1 \\\\\n",
    "1 & 1 & 1 & 1 & 1 \\\\\n",
    "1 & 1 & 1 & 1 & 1 \\\\\n",
    "1 & 1 & 1 & 1 & 1 \\\\\n",
    "1 & 1 & 1 & 1 & 1  \n",
    "\\end{bmatrix}  $\n",
    "\n",
    "Let's try increasing the kernel size by a significant amount, just so it's obvious to see that the image gets blurrier as the kernel size increases. The following code shows the original image, the slightly burred image with the 3x3 matrix, and a significantly blurred image with a 15x15 matrix."
   ]
  },
  {
   "cell_type": "code",
   "execution_count": 9,
   "id": "a0b2d15a",
   "metadata": {},
   "outputs": [
    {
     "data": {
      "text/plain": [
       "-1"
      ]
     },
     "execution_count": 9,
     "metadata": {},
     "output_type": "execute_result"
    }
   ],
   "source": [
    "blur_img_2 = cv2.blur(img_color,(15,15))\n",
    "\n",
    "cv2.imshow(\"Color ladybug!\", img_color)\n",
    "cv2.waitKey(0)\n",
    "\n",
    "cv2.imshow(\"Blurred ladybug\", blur_img_1)\n",
    "cv2.waitKey(0)\n",
    "\n",
    "cv2.imshow(\"Blurred ladybug\", blur_img_2)\n",
    "cv2.waitKey(0)"
   ]
  },
  {
   "cell_type": "markdown",
   "id": "d786b830",
   "metadata": {},
   "source": [
    "### Gaussian Blur\n",
    "\n",
    "An incredibly common method of blurring images in computer vision is called a **Gaussian Blur**. This works similarly to the normalized blur we saw earlier, by applying a matrix to each pixel in an image.\n",
    "\n",
    "$ \\frac{1}{256} *\n",
    "\\begin{bmatrix}\n",
    "1 & 4 & 6 & 4 & 1 \\\\\n",
    "4 & 16 & 24 & 16 & 4 \\\\\n",
    "6 & 24 & 36 & 24 & 6 \\\\\n",
    "4 & 16 & 24 & 16 & 4 \\\\\n",
    "1 & 4 & 6 & 4 & 1 \n",
    "\\end{bmatrix}  $\n",
    "\n",
    "The idea behind this is to give surrounding pixels different weights based on proximity to the current pixel. So the central pixel is weighed the highest, with the immediately surrounding pixels having the next highest amount of influence.\n",
    "\n",
    "Below we show examples of Gaussian blurs in cv2 using the built-in `cv2.GaussianBlur` method."
   ]
  },
  {
   "cell_type": "code",
   "execution_count": 10,
   "id": "ecd81bcc",
   "metadata": {},
   "outputs": [
    {
     "data": {
      "text/plain": [
       "-1"
      ]
     },
     "execution_count": 10,
     "metadata": {},
     "output_type": "execute_result"
    }
   ],
   "source": [
    "blur_img_3 = cv2.GaussianBlur(img_color,(5,5),0)\n",
    "blur_img_4 = cv2.GaussianBlur(img_color,(15,15),0)\n",
    "\n",
    "cv2.imshow(\"Blurred ladybug\", img_color)\n",
    "cv2.waitKey(0)\n",
    "\n",
    "cv2.imshow(\"Blurred ladybug\", blur_img_3)\n",
    "cv2.waitKey(0)\n",
    "\n",
    "cv2.imshow(\"Blurred ladybug\", blur_img_4)\n",
    "cv2.waitKey(0)"
   ]
  },
  {
   "cell_type": "markdown",
   "id": "19993aee",
   "metadata": {},
   "source": [
    "Below are the original image, normalized blur, and gaussian blur next to each other so you can clearly see the difference between types of blurs"
   ]
  },
  {
   "cell_type": "code",
   "execution_count": 11,
   "id": "d4255cdd",
   "metadata": {},
   "outputs": [
    {
     "data": {
      "text/plain": [
       "-1"
      ]
     },
     "execution_count": 11,
     "metadata": {},
     "output_type": "execute_result"
    }
   ],
   "source": [
    "cv2.imshow(\"Blurred ladybug\", img_color)\n",
    "cv2.waitKey(0)\n",
    "\n",
    "cv2.imshow(\"Blurred ladybug\", blur_img_2)\n",
    "cv2.waitKey(0)\n",
    "\n",
    "cv2.imshow(\"Blurred ladybug\", blur_img_4)\n",
    "cv2.waitKey(0)"
   ]
  },
  {
   "cell_type": "markdown",
   "id": "0b387dcd",
   "metadata": {},
   "source": [
    "The specific advantages and disadvantages of both can be somewhat complicated and involve a lot of difficult math. However, in simple terms, it's frequently said that a Guassian blur \"smooths out the image\" as opposed to completely blurring it the way that the normalized blur does. To see this clearly, look at the antennae of the ladybug in the previous example. With the regular blur, the antennae seem to vanish almost completely in some areas, whereas with the Gaussian blur, we can still see the clear outlines."
   ]
  },
  {
   "cell_type": "markdown",
   "id": "260bfc5e",
   "metadata": {},
   "source": [
    "## Scaling\n",
    "\n",
    "Something fairly simple thats frequently used in image processing is scaling (or resizing) an image. Fortunately, OpenCV has built in tools for this!\n",
    "\n",
    "We can use `cv2.resize` to resize the image to our new dimensions. Below is some simple python code to calculate a scale percentage. Here we use 60, as in the new image will be 60% the size of the old image."
   ]
  },
  {
   "cell_type": "code",
   "execution_count": 12,
   "id": "087c396f",
   "metadata": {},
   "outputs": [
    {
     "data": {
      "text/plain": [
       "-1"
      ]
     },
     "execution_count": 12,
     "metadata": {},
     "output_type": "execute_result"
    }
   ],
   "source": [
    "img_temp = cv2.imread(\"ladybug.png\", cv2.IMREAD_COLOR)\n",
    "\n",
    "scale_percent = 60\n",
    "width = int(img_temp.shape[1] * scale_percent / 100)\n",
    "height = int(img_temp.shape[0] * scale_percent / 100)\n",
    "dim = (width, height)\n",
    "\n",
    "resized = cv2.resize(img_temp, dim)\n",
    "\n",
    "cv2.imshow(\"Resized ladybug!\", resized)\n",
    "cv2.waitKey(0)"
   ]
  },
  {
   "cell_type": "markdown",
   "id": "c1feb412",
   "metadata": {},
   "source": [
    "We can also scale the image up to be larger than the original. (You might notice a significant decrease in image quality this way.)"
   ]
  },
  {
   "cell_type": "code",
   "execution_count": 13,
   "id": "0de9c970",
   "metadata": {},
   "outputs": [
    {
     "data": {
      "text/plain": [
       "-1"
      ]
     },
     "execution_count": 13,
     "metadata": {},
     "output_type": "execute_result"
    }
   ],
   "source": [
    "scale_percent = 150\n",
    "width = int(img_temp.shape[1] * scale_percent / 100)\n",
    "height = int(img_temp.shape[0] * scale_percent / 100)\n",
    "dim = (width, height)\n",
    "\n",
    "resized_2 = cv2.resize(img_temp, dim)\n",
    "\n",
    "cv2.imshow(\"Resized ladybug!\", resized_2)\n",
    "cv2.waitKey(0)"
   ]
  },
  {
   "cell_type": "markdown",
   "id": "50ef4d38",
   "metadata": {},
   "source": [
    "We can also manually set dimensions; however, without keeping the scale, the resulting image may look a bit strange!"
   ]
  },
  {
   "cell_type": "code",
   "execution_count": 15,
   "id": "1c9b3926",
   "metadata": {},
   "outputs": [
    {
     "data": {
      "text/plain": [
       "-1"
      ]
     },
     "execution_count": 15,
     "metadata": {},
     "output_type": "execute_result"
    }
   ],
   "source": [
    "dim = (200, 200)\n",
    "\n",
    "resized_3 = cv2.resize(img_temp, dim)\n",
    "\n",
    "cv2.imshow(\"Resized ladybug!\", resized_3)\n",
    "cv2.waitKey(0)"
   ]
  },
  {
   "cell_type": "markdown",
   "id": "4b7f9f72",
   "metadata": {},
   "source": [
    "## Adjusting Contrast\n",
    "\n",
    "One other important thing we can do to an image is increase the contrast. For the sake of this workshop, we will be doing this in grayscale images.\n",
    "\n",
    "Let's take a grayscale version of our ladybug image."
   ]
  },
  {
   "cell_type": "code",
   "execution_count": 19,
   "id": "6a5d114b",
   "metadata": {},
   "outputs": [
    {
     "data": {
      "text/plain": [
       "-1"
      ]
     },
     "execution_count": 19,
     "metadata": {},
     "output_type": "execute_result"
    }
   ],
   "source": [
    "img_gray = cv2.imread(\"ladybug.png\", cv2.IMREAD_GRAYSCALE)\n",
    "\n",
    "cv2.imshow(\"Gray ladybug!\", img_gray)\n",
    "cv2.waitKey(0)"
   ]
  },
  {
   "cell_type": "markdown",
   "id": "7e216374",
   "metadata": {},
   "source": [
    "Below is code to plot how many of each value pixel there are. (You don't need to worry about understanding the line of code. We are using the plots simply to have a helpful visualization for what is actually going on behind the scenes of this method. In the future, you won't need to print out the plot.)"
   ]
  },
  {
   "cell_type": "code",
   "execution_count": 18,
   "id": "8f033b4a",
   "metadata": {},
   "outputs": [
    {
     "data": {
      "image/png": "[encoded data removed]",
      "text/plain": [
       "<Figure size 432x288 with 1 Axes>"
      ]
     },
     "metadata": {
      "needs_background": "light"
     },
     "output_type": "display_data"
    }
   ],
   "source": [
    "import numpy as np\n",
    "from matplotlib import pyplot as plt\n",
    "\n",
    "plt.hist(img_gray.ravel(),256,[0,256]); plt.show()"
   ]
  },
  {
   "cell_type": "markdown",
   "id": "269ce254",
   "metadata": {},
   "source": [
    "As you can see, there are a very large number of pixels clumped between 100 and 150. Recall that on a grayscale image, all the pixels are from values 0 to 255, with zero being black and 255 being white. From the plot, we can see that there are very few pixels that can be called either \"very dark\" or \"very light.\"\n",
    "\n",
    "We're now going to use a method called \"histogram equalization.\" In cv2, this is called `cv2.equalizeHist`."
   ]
  },
  {
   "cell_type": "code",
   "execution_count": 22,
   "id": "a217215c",
   "metadata": {},
   "outputs": [
    {
     "data": {
      "text/plain": [
       "-1"
      ]
     },
     "execution_count": 22,
     "metadata": {},
     "output_type": "execute_result"
    }
   ],
   "source": [
    "equalized_img = cv2.equalizeHist(img_gray)\n",
    "\n",
    "cv2.imshow(\"Gray ladybug!\", equalized_img)\n",
    "cv2.waitKey(0)"
   ]
  },
  {
   "cell_type": "markdown",
   "id": "0f0b1313",
   "metadata": {},
   "source": [
    "As you can see, the image looks very different! Let's re-examine the histogram."
   ]
  },
  {
   "cell_type": "code",
   "execution_count": 23,
   "id": "a2f5b5c5",
   "metadata": {},
   "outputs": [
    {
     "data": {
      "image/png": "[encoded data removed]",
      "text/plain": [
       "<Figure size 432x288 with 1 Axes>"
      ]
     },
     "metadata": {
      "needs_background": "light"
     },
     "output_type": "display_data"
    }
   ],
   "source": [
    "plt.hist(equalized_img.ravel(),256,[0,256]); plt.show()"
   ]
  },
  {
   "cell_type": "markdown",
   "id": "76f57121",
   "metadata": {},
   "source": [
    "There should be a very clear difference! Now, instead of most of the pixels being clumped between 100-150, they are much more spreadout throughout the gray scale. This is going to help us a lot in future steps."
   ]
  }
 ],
 "metadata": {
  "kernelspec": {
   "display_name": "Python 3 (ipykernel)",
   "language": "python",
   "name": "python3"
  },
  "language_info": {
   "codemirror_mode": {
    "name": "ipython",
    "version": 3
   },
   "file_extension": ".py",
   "mimetype": "text/x-python",
   "name": "python",
   "nbconvert_exporter": "python",
   "pygments_lexer": "ipython3",
   "version": "3.9.7"
  }
 },
 "nbformat": 4,
 "nbformat_minor": 5
}
