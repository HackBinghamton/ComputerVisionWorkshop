{
 "cells": [
  {
   "cell_type": "markdown",
   "id": "fe9f727a",
   "metadata": {},
   "source": [
    "# Project\n",
    "\n",
    "Even simple image processing methods can be extremely effective at solving real-world problems. One example of a commonly-used application of computer vision is for medical images! We have uploaded several actual pictures of brain tumors found on MRI scans. \n",
    "\n",
    "We've imported them for you:"
   ]
  },
  {
   "cell_type": "code",
   "execution_count": 5,
   "id": "72159140",
   "metadata": {},
   "outputs": [
    {
     "data": {
      "text/plain": [
       "-1"
      ]
     },
     "execution_count": 5,
     "metadata": {},
     "output_type": "execute_result"
    }
   ],
   "source": [
    "import cv2\n",
    "\n",
    "tumor_1 = cv2.imread(\"Brain_Images\\Tumor_1.png\", cv2.IMREAD_GRAYSCALE)\n",
    "tumor_2 = cv2.imread(\"Brain_Images\\Tumor_2.png\", cv2.IMREAD_GRAYSCALE)\n",
    "tumor_3 = cv2.imread(\"Brain_Images\\Tumor_3.png\", cv2.IMREAD_GRAYSCALE)\n",
    "tumor_4 = cv2.imread(\"Brain_Images\\Tumor_4.png\", cv2.IMREAD_GRAYSCALE)\n",
    "\n",
    "cv2.imshow(\"Tumor 1\", tumor_1)\n",
    "cv2.waitKey(0)\n",
    "\n",
    "cv2.imshow(\"Tumor 2\", tumor_2)\n",
    "cv2.waitKey(0)\n",
    "\n",
    "cv2.imshow(\"Tumor 3\", tumor_3)\n",
    "cv2.waitKey(0)\n",
    "\n",
    "cv2.imshow(\"Tumor 4\", tumor_4)\n",
    "cv2.waitKey(0)"
   ]
  },
  {
   "cell_type": "markdown",
   "id": "a229244a",
   "metadata": {},
   "source": [
    "**Challenge 1:** Create code to label the tumor on each individual image.\n",
    "\n",
    "**Challenge 2:** Create one algorithm that will label the tumor on all 4 images\n",
    "\n",
    "Hints: \n",
    "\n",
    "1. The contour method will likely highlight the edge of the brain, even if after some image processing methods. You will probably have to find a way to eliminate some of the contours based on their size! (After finding the contours, this is something that can be done with only knowledge of python, without using a special cv2 method)\n",
    "2. You may have to use contrast on some of them for OpenCV to find the contours well!\n",
    "\n",
    "Good luck!"
   ]
  },
  {
   "cell_type": "code",
   "execution_count": 6,
   "id": "632d5a01",
   "metadata": {},
   "outputs": [],
   "source": [
    "# Your code here :D"
   ]
  }
 ],
 "metadata": {
  "kernelspec": {
   "display_name": "Python 3 (ipykernel)",
   "language": "python",
   "name": "python3"
  },
  "language_info": {
   "codemirror_mode": {
    "name": "ipython",
    "version": 3
   },
   "file_extension": ".py",
   "mimetype": "text/x-python",
   "name": "python",
   "nbconvert_exporter": "python",
   "pygments_lexer": "ipython3",
   "version": "3.9.7"
  }
 },
 "nbformat": 4,
 "nbformat_minor": 5
}
